{
 "cells": [
  {
   "cell_type": "code",
   "execution_count": 36,
   "id": "30d78452-1d54-4e78-91e4-73c3c4710067",
   "metadata": {},
   "outputs": [],
   "source": [
    "# import major libraries\n",
    "import numpy as np\n",
    "import matplotlib.pyplot as plt\n",
    "import pandas as pd"
   ]
  },
  {
   "cell_type": "code",
   "execution_count": 37,
   "id": "85888625-c46e-4562-b4da-2a66373c8d7f",
   "metadata": {},
   "outputs": [],
   "source": [
    "# read dataset\n",
    "dataset = pd.read_csv(\"BooksDatasetClean.csv\")"
   ]
  },
  {
   "cell_type": "code",
   "execution_count": 38,
   "id": "080b028a-3562-4bb1-adc1-ce9d90fbe981",
   "metadata": {},
   "outputs": [],
   "source": [
    "# dataset.sample(n=20)"
   ]
  },
  {
   "cell_type": "code",
   "execution_count": 39,
   "id": "a89c5743-406b-454a-9eff-ba8ee65d81ad",
   "metadata": {},
   "outputs": [
    {
     "data": {
      "text/html": [
       "<div>\n",
       "<style scoped>\n",
       "    .dataframe tbody tr th:only-of-type {\n",
       "        vertical-align: middle;\n",
       "    }\n",
       "\n",
       "    .dataframe tbody tr th {\n",
       "        vertical-align: top;\n",
       "    }\n",
       "\n",
       "    .dataframe thead th {\n",
       "        text-align: right;\n",
       "    }\n",
       "</style>\n",
       "<table border=\"1\" class=\"dataframe\">\n",
       "  <thead>\n",
       "    <tr style=\"text-align: right;\">\n",
       "      <th></th>\n",
       "      <th>Title</th>\n",
       "      <th>Authors</th>\n",
       "      <th>Description</th>\n",
       "      <th>Category</th>\n",
       "      <th>Publisher</th>\n",
       "      <th>Price Starting With ($)</th>\n",
       "      <th>Publish Date (Month)</th>\n",
       "      <th>Publish Date (Year)</th>\n",
       "    </tr>\n",
       "  </thead>\n",
       "  <tbody>\n",
       "    <tr>\n",
       "      <th>0</th>\n",
       "      <td>Goat Brothers</td>\n",
       "      <td>By Colton, Larry</td>\n",
       "      <td></td>\n",
       "      <td>History , General</td>\n",
       "      <td>Doubleday</td>\n",
       "      <td>8.79</td>\n",
       "      <td>January</td>\n",
       "      <td>1993</td>\n",
       "    </tr>\n",
       "    <tr>\n",
       "      <th>1</th>\n",
       "      <td>The Missing Person</td>\n",
       "      <td>By Grumbach, Doris</td>\n",
       "      <td></td>\n",
       "      <td>Fiction , General</td>\n",
       "      <td>Putnam Pub Group</td>\n",
       "      <td>4.99</td>\n",
       "      <td>March</td>\n",
       "      <td>1981</td>\n",
       "    </tr>\n",
       "    <tr>\n",
       "      <th>2</th>\n",
       "      <td>Don't Eat Your Heart Out Cookbook</td>\n",
       "      <td>By Piscatella, Joseph C.</td>\n",
       "      <td></td>\n",
       "      <td>Cooking , Reference</td>\n",
       "      <td>Workman Pub Co</td>\n",
       "      <td>4.99</td>\n",
       "      <td>September</td>\n",
       "      <td>1983</td>\n",
       "    </tr>\n",
       "    <tr>\n",
       "      <th>3</th>\n",
       "      <td>When Your Corporate Umbrella Begins to Leak: A...</td>\n",
       "      <td>By Davis, Paul D.</td>\n",
       "      <td></td>\n",
       "      <td></td>\n",
       "      <td>Natl Pr Books</td>\n",
       "      <td>4.99</td>\n",
       "      <td>April</td>\n",
       "      <td>1991</td>\n",
       "    </tr>\n",
       "    <tr>\n",
       "      <th>4</th>\n",
       "      <td>Amy Spangler's Breastfeeding : A Parent's Guide</td>\n",
       "      <td>By Spangler, Amy</td>\n",
       "      <td></td>\n",
       "      <td></td>\n",
       "      <td>Amy Spangler</td>\n",
       "      <td>5.32</td>\n",
       "      <td>February</td>\n",
       "      <td>1997</td>\n",
       "    </tr>\n",
       "  </tbody>\n",
       "</table>\n",
       "</div>"
      ],
      "text/plain": [
       "                                               Title  \\\n",
       "0                                      Goat Brothers   \n",
       "1                                 The Missing Person   \n",
       "2                  Don't Eat Your Heart Out Cookbook   \n",
       "3  When Your Corporate Umbrella Begins to Leak: A...   \n",
       "4    Amy Spangler's Breastfeeding : A Parent's Guide   \n",
       "\n",
       "                    Authors Description              Category  \\\n",
       "0          By Colton, Larry                 History , General   \n",
       "1        By Grumbach, Doris                 Fiction , General   \n",
       "2  By Piscatella, Joseph C.               Cooking , Reference   \n",
       "3         By Davis, Paul D.                                     \n",
       "4          By Spangler, Amy                                     \n",
       "\n",
       "          Publisher  Price Starting With ($) Publish Date (Month)  \\\n",
       "0         Doubleday                     8.79              January   \n",
       "1  Putnam Pub Group                     4.99                March   \n",
       "2    Workman Pub Co                     4.99            September   \n",
       "3     Natl Pr Books                     4.99                April   \n",
       "4      Amy Spangler                     5.32             February   \n",
       "\n",
       "   Publish Date (Year)  \n",
       "0                 1993  \n",
       "1                 1981  \n",
       "2                 1983  \n",
       "3                 1991  \n",
       "4                 1997  "
      ]
     },
     "execution_count": 39,
     "metadata": {},
     "output_type": "execute_result"
    }
   ],
   "source": [
    "# replace NaN values with an empty string\n",
    "dataset = dataset.fillna(\" \")\n",
    "dataset.head()"
   ]
  },
  {
   "cell_type": "code",
   "execution_count": 46,
   "id": "d7668145-6daa-4803-b6af-8ce1c1254948",
   "metadata": {},
   "outputs": [],
   "source": [
    "# basic processing\n",
    "import re\n",
    "\n",
    "texts = []\n",
    "for i in range(0, len(dataset)):\n",
    "    text = re.sub('[^a-zA-Z]', ' ', dataset['Title'][i] + dataset['Description'][i])\n",
    "    text = text.lower()\n",
    "    text = text.split()\n",
    "    text = ' '.join(text)\n",
    "    texts.append(text)"
   ]
  },
  {
   "cell_type": "code",
   "execution_count": 50,
   "id": "fe0be632-a5d5-4d0d-ab13-a2f4b162513e",
   "metadata": {},
   "outputs": [],
   "source": [
    "# Train the model\n",
    "from gensim.models import Word2Vec\n",
    "\n",
    "sentences = [line.split() for line in texts]"
   ]
  },
  {
   "cell_type": "code",
   "execution_count": 52,
   "id": "075177f4-8f84-42b7-a4ac-a827f5c0be01",
   "metadata": {},
   "outputs": [],
   "source": [
    "w2v = Word2Vec(sentences, vector_size=100, window=5, workers=2, epochs=10, min_count=5)"
   ]
  },
  {
   "cell_type": "code",
   "execution_count": 54,
   "id": "a392eb4d-ee7f-45a1-8883-ebe974c90761",
   "metadata": {},
   "outputs": [],
   "source": [
    "words = list(w2v.wv.index_to_key)"
   ]
  },
  {
   "cell_type": "code",
   "execution_count": 74,
   "id": "c66634b8-6210-406d-858c-eb1e85b068ef",
   "metadata": {},
   "outputs": [
    {
     "name": "stdout",
     "output_type": "stream",
     "text": [
      "[('dog', 0.8138768672943115), ('kitten', 0.7469087839126587), ('pet', 0.6683300137519836), ('horse', 0.6415449976921082), ('puppy', 0.6287363767623901), ('mouse', 0.6273152828216553), ('dogs', 0.6266921162605286), ('bird', 0.624048113822937), ('stray', 0.6078345775604248), ('cats', 0.6046406030654907)]\n"
     ]
    }
   ],
   "source": [
    "# print(words)\n",
    "\n",
    "print(w2v.wv.most_similar('cat'))"
   ]
  },
  {
   "cell_type": "code",
   "execution_count": 75,
   "id": "1b964c6c-4edf-4587-ad5a-a88d6862a0ea",
   "metadata": {},
   "outputs": [],
   "source": [
    "# save the model\n",
    "w2v.save(\"word2vec.model\")"
   ]
  },
  {
   "cell_type": "code",
   "execution_count": null,
   "id": "cbec821d-966a-44a1-8130-6c99af9dbc12",
   "metadata": {},
   "outputs": [],
   "source": []
  }
 ],
 "metadata": {
  "kernelspec": {
   "display_name": "Python 3 (ipykernel)",
   "language": "python",
   "name": "python3"
  },
  "language_info": {
   "codemirror_mode": {
    "name": "ipython",
    "version": 3
   },
   "file_extension": ".py",
   "mimetype": "text/x-python",
   "name": "python",
   "nbconvert_exporter": "python",
   "pygments_lexer": "ipython3",
   "version": "3.10.14"
  }
 },
 "nbformat": 4,
 "nbformat_minor": 5
}
